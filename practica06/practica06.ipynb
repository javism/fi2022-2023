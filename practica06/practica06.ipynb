{
 "cells": [
  {
   "cell_type": "markdown",
   "id": "7d315bcf",
   "metadata": {},
   "source": [
    "# Práctica VI\n",
    "\n",
    "[![Open In Colab](https://colab.research.google.com/assets/colab-badge.svg)](https://colab.research.google.com/github/javism/fi2022-2023/blob/main/practica06/practica06.ipynb)\n",
    "\n",
    "https://github.com/javism/fi2022-2023/blob/main/practica06/practica06.ipynb\n",
    "\n",
    "* Vectores y Matrices: almacenan este tipo de datos con contenido numérico (bool, int, float). Habitualmente no añadimos y quitamos elementos salvo con operaciones puntuales de contatenación. \n",
    "* Listas: tipo de datos para almacenar otros datos de cualquier tipo. Están diseñados como estructura dinámica en la que añadir y extraer elementos habitualmente. \n",
    "\n",
    "Recursos: \n",
    "* [Cómo resolver sistemas de ecuaciones lineales con numpy](https://joanby.github.io/bookdown-algebra/ecuaciones-y-sistemas-lineales-con-r-python-y-octave.html#trabajando-con-python)\n",
    "\n",
    "## Vectores y Matrices\n",
    "\n",
    "Utilizaremos la biblioteca `numpy` para crear matrices y vector. Por convención siempre se nombra como `np`\n",
    "\n",
    "Crear una matriz o vector con valores concretos. Observa las diferentes formas (`shape`) que adquieren. "
   ]
  },
  {
   "cell_type": "code",
   "execution_count": 56,
   "id": "2511c84b",
   "metadata": {},
   "outputs": [
    {
     "name": "stdout",
     "output_type": "stream",
     "text": [
      "[1 2 3]\n",
      "(3,)\n",
      "[[1 2 3]]\n",
      "(1, 3)\n",
      "[[1 2 3]\n",
      " [4 5 6]]\n",
      "(2, 3)\n",
      "[[1]\n",
      " [2]\n",
      " [3]]\n",
      "(3, 1)\n"
     ]
    }
   ],
   "source": [
    "import numpy as np\n",
    "\n",
    "# Vector\n",
    "M = np.array([1,2,3])\n",
    "print(M)\n",
    "print(M.shape)\n",
    "\n",
    "# \"Matriz\"\n",
    "M = np.array([[1,2,3]])\n",
    "print(M)\n",
    "print(M.shape)\n",
    "\n",
    "# Matriz\n",
    "M = np.array([[1,2,3],[4,5,6]])\n",
    "print(M)\n",
    "print(M.shape)\n",
    "\n",
    "# \"Matriz\"\n",
    "M = np.array([[1],[2],[3]])\n",
    "print(M)\n",
    "print(M.shape)\n"
   ]
  },
  {
   "cell_type": "markdown",
   "id": "720e35fd",
   "metadata": {},
   "source": [
    "Otra opción para crear matrices es directamente crearlas con ceros, unos o números aleatorios"
   ]
  },
  {
   "cell_type": "code",
   "execution_count": 57,
   "id": "e6af1cc7",
   "metadata": {},
   "outputs": [
    {
     "name": "stdout",
     "output_type": "stream",
     "text": [
      "[0. 0. 0.]\n",
      "[[0. 0. 0.]\n",
      " [0. 0. 0.]\n",
      " [0. 0. 0.]]\n",
      "[[1. 1.]\n",
      " [1. 1.]\n",
      " [1. 1.]]\n"
     ]
    }
   ],
   "source": [
    "M = np.zeros(3)\n",
    "print(M)\n",
    "M = np.zeros([3,3])\n",
    "print(M)\n",
    "\n",
    "# Observa las diferencias\n",
    "z = np.zeros([3])\n",
    "z\n",
    "z = np.zeros([3,1])\n",
    "z\n",
    "z = np.ones([3,2])\n",
    "print(z)"
   ]
  },
  {
   "cell_type": "markdown",
   "id": "842b7e70",
   "metadata": {},
   "source": [
    "El módulo `np.random` nos permite generar (o muestrear) números alatorios de distintas distribuciones. Por defecto se usa la distribución uniforme para generar números en 0 y 1, pero también se pueden generar enteros de la uniforme u otros números de la distribución normal, Poison, etc. "
   ]
  },
  {
   "cell_type": "code",
   "execution_count": 58,
   "id": "1028e323",
   "metadata": {},
   "outputs": [
    {
     "data": {
      "text/plain": [
       "array([[0.93930778, 0.44551489, 0.2006587 , 0.47424093]])"
      ]
     },
     "execution_count": 58,
     "metadata": {},
     "output_type": "execute_result"
    }
   ],
   "source": [
    "M = np.random.random([1,4])\n",
    "M"
   ]
  },
  {
   "cell_type": "code",
   "execution_count": 59,
   "id": "5aae81f4",
   "metadata": {},
   "outputs": [
    {
     "data": {
      "text/plain": [
       "array([[  3,  -1,   4,   4],\n",
       "       [ -1,   5, -10,  -1],\n",
       "       [  6,   3,   2,   5]])"
      ]
     },
     "execution_count": 59,
     "metadata": {},
     "output_type": "execute_result"
    }
   ],
   "source": [
    "M = np.random.randint(-10,10,(3,4))\n",
    "M"
   ]
  },
  {
   "cell_type": "code",
   "execution_count": 60,
   "id": "eae4d03a",
   "metadata": {},
   "outputs": [
    {
     "data": {
      "text/plain": [
       "array([[ 0.52907791,  1.1109026 ,  4.84641016,  3.32508372],\n",
       "       [ 1.776943  ,  6.14571975,  2.31328402,  2.36737481],\n",
       "       [ 2.33745289,  6.7578469 , -0.50796628,  1.94084298]])"
      ]
     },
     "execution_count": 60,
     "metadata": {},
     "output_type": "execute_result"
    }
   ],
   "source": [
    "# Números aleatorios con la distribución normal con media 3 y varianza 2\n",
    "Mn = np.random.normal(3, 2, (3,4))\n",
    "Mn"
   ]
  },
  {
   "cell_type": "markdown",
   "id": "39259347",
   "metadata": {},
   "source": [
    "### Acceso a elementos de la matriz\n",
    "\n",
    "Ejemplos básicos para acceder a:\n",
    "* la primera fila de la matriz completa\n",
    "* el primer elemento de la primera fila de la matriz\n",
    "* la primera fila de la matriz completa explícitamente con :\n",
    "* la primera columna de la matriz\n",
    "* la última columna de la matriz (podríamos poner -2, -3, etc.)"
   ]
  },
  {
   "cell_type": "code",
   "execution_count": 61,
   "id": "4a14b4e1",
   "metadata": {},
   "outputs": [
    {
     "name": "stdout",
     "output_type": "stream",
     "text": [
      "[[  3  -1   4   4]\n",
      " [ -1   5 -10  -1]\n",
      " [  6   3   2   5]]\n"
     ]
    }
   ],
   "source": [
    "print(M)"
   ]
  },
  {
   "cell_type": "code",
   "execution_count": 62,
   "id": "ec4ca83f",
   "metadata": {},
   "outputs": [
    {
     "data": {
      "text/plain": [
       "array([ 3, -1,  4,  4])"
      ]
     },
     "execution_count": 62,
     "metadata": {},
     "output_type": "execute_result"
    }
   ],
   "source": [
    "M[0,]"
   ]
  },
  {
   "cell_type": "code",
   "execution_count": 63,
   "id": "4c35090b",
   "metadata": {},
   "outputs": [
    {
     "data": {
      "text/plain": [
       "3"
      ]
     },
     "execution_count": 63,
     "metadata": {},
     "output_type": "execute_result"
    }
   ],
   "source": [
    "M[0,0]"
   ]
  },
  {
   "cell_type": "code",
   "execution_count": 64,
   "id": "887c0a55",
   "metadata": {},
   "outputs": [
    {
     "data": {
      "text/plain": [
       "array([ 3, -1,  4,  4])"
      ]
     },
     "execution_count": 64,
     "metadata": {},
     "output_type": "execute_result"
    }
   ],
   "source": [
    "M[0,:]"
   ]
  },
  {
   "cell_type": "code",
   "execution_count": 65,
   "id": "f196107f",
   "metadata": {},
   "outputs": [
    {
     "data": {
      "text/plain": [
       "array([ 3, -1,  6])"
      ]
     },
     "execution_count": 65,
     "metadata": {},
     "output_type": "execute_result"
    }
   ],
   "source": [
    "M[:,0]"
   ]
  },
  {
   "cell_type": "code",
   "execution_count": 66,
   "id": "35d49b5a",
   "metadata": {},
   "outputs": [
    {
     "data": {
      "text/plain": [
       "array([ 4, -1,  5])"
      ]
     },
     "execution_count": 66,
     "metadata": {},
     "output_type": "execute_result"
    }
   ],
   "source": [
    "M[:,-1]"
   ]
  },
  {
   "cell_type": "code",
   "execution_count": 67,
   "id": "8f62427a",
   "metadata": {},
   "outputs": [
    {
     "data": {
      "text/plain": [
       "array([6, 3, 2, 5])"
      ]
     },
     "execution_count": 67,
     "metadata": {},
     "output_type": "execute_result"
    }
   ],
   "source": [
    "vector = M[2,:]\n",
    "vector"
   ]
  },
  {
   "cell_type": "markdown",
   "id": "fd226e00",
   "metadata": {},
   "source": [
    "### Contatenar matrices\n",
    "\n",
    "Se pueden concatenar matrices siempre que las dimensiones de las matrices cumplan las condiciones de álgebra lineal"
   ]
  },
  {
   "cell_type": "code",
   "execution_count": 52,
   "id": "14423ea9",
   "metadata": {},
   "outputs": [
    {
     "name": "stdout",
     "output_type": "stream",
     "text": [
      "[ 1  2  3  3 -4  5  6]\n"
     ]
    }
   ],
   "source": [
    "M1 = np.array([1,2,3])\n",
    "M2 = np.array([3, -4, 5, 6])\n",
    "M3 = np.concatenate([M1,M2])\n",
    "print(M3)\n",
    "\n",
    "# Esto generaría un error\n",
    "#M1 = np.array([[1,2,3]])\n",
    "#M2 = np.array([3, -4, 5, 6])\n",
    "#M3 = np.concatenate([M1,M2])"
   ]
  },
  {
   "cell_type": "markdown",
   "id": "dee4cdaf",
   "metadata": {},
   "source": [
    "## Listas\n",
    "\n",
    "Resumen rápido: \n",
    "* Las listas nos permiten almacenar distintos elementos de cualquier tipo.\n",
    "* Se puede acceder a sus elementos de forma similar a las matrices \n",
    "* Existen funciones para añadir (`append()`) y extraer eliminando (`pop()`) elementos al final de la lista. "
   ]
  },
  {
   "cell_type": "code",
   "execution_count": 22,
   "id": "d3891467",
   "metadata": {},
   "outputs": [
    {
     "name": "stdout",
     "output_type": "stream",
     "text": [
      "[5, True, 'hola']\n",
      "<class 'int'>\n",
      "<class 'bool'>\n",
      "<class 'str'>\n",
      "hola\n",
      "True\n",
      "5\n"
     ]
    }
   ],
   "source": [
    "# Declaración de lista vacía\n",
    "lista = list()\n",
    "lista.append(5)\n",
    "lista.append(True)\n",
    "lista.append('hola')\n",
    "print(lista)\n",
    "\n",
    "for i in lista:\n",
    "    print(type(i))\n",
    "    \n",
    "print(lista.pop())\n",
    "print(lista.pop())\n",
    "print(lista.pop())\n",
    "\n",
    "# Declaración de lista con elementos\n",
    "lista = [1,2, True, 'hola']"
   ]
  },
  {
   "cell_type": "code",
   "execution_count": 26,
   "id": "b0658625",
   "metadata": {},
   "outputs": [
    {
     "data": {
      "text/plain": [
       "[True, 'hola']"
      ]
     },
     "execution_count": 26,
     "metadata": {},
     "output_type": "execute_result"
    }
   ],
   "source": [
    "lista[2:]"
   ]
  },
  {
   "cell_type": "code",
   "execution_count": null,
   "id": "587bb2b0",
   "metadata": {},
   "outputs": [],
   "source": []
  }
 ],
 "metadata": {
  "kernelspec": {
   "display_name": "Python 3 (ipykernel)",
   "language": "python",
   "name": "python3"
  },
  "language_info": {
   "codemirror_mode": {
    "name": "ipython",
    "version": 3
   },
   "file_extension": ".py",
   "mimetype": "text/x-python",
   "name": "python",
   "nbconvert_exporter": "python",
   "pygments_lexer": "ipython3",
   "version": "3.7.13"
  }
 },
 "nbformat": 4,
 "nbformat_minor": 5
}
