{
 "cells": [
  {
   "cell_type": "markdown",
   "id": "7d315bcf",
   "metadata": {},
   "source": [
    "# Práctica VI\n",
    "\n",
    "[![Open In Colab](https://colab.research.google.com/assets/colab-badge.svg)](https://colab.research.google.com/github/javism/fi2022-2023/blob/main/practica06/practica06.ipynb)\n",
    "\n",
    "* Vectores y Matrices: almacenan este tipo de datos con contenido numérico (bool, int, float). Habitualmente no añadimos y quitamos elementos salvo con operaciones puntuales de contatenación. \n",
    "* Listas: tipo de datos para almacenar otros datos de cualquier tipo. Están diseñados como estructura dinámica en la que añadir y extraer elementos habitualmente. \n",
    "* En esta práctica no vamos a usar la mayoría de operadores de matrices de numpy ya que vamos a desarrollar nuestro conocimiento de bucles y matrices implementando nosotros mismos las funciones.\n",
    "\n",
    "Recursos: \n",
    "* [Álgebra Lineal con Python](https://relopezbriega.github.io/blog/2015/06/14/algebra-lineal-con-python/): básicamente todo lo que se necesita para esta asignatura con repaso de conceptos matemáticos. \n",
    "* [Cómo resolver sistemas de ecuaciones lineales con numpy](https://joanby.github.io/bookdown-algebra/ecuaciones-y-sistemas-lineales-con-r-python-y-octave.html#trabajando-con-python)\n",
    "\n",
    "## Vectores y Matrices\n",
    "\n",
    "Utilizaremos la biblioteca `numpy` para crear matrices y vector. Por convención siempre se nombra como `np`\n",
    "\n",
    "Crear una matriz o vector con valores concretos. Observa las diferentes formas (`shape`) que adquieren. "
   ]
  },
  {
   "cell_type": "code",
   "execution_count": null,
   "id": "2511c84b",
   "metadata": {},
   "outputs": [],
   "source": [
    "import numpy as np\n",
    "\n",
    "# Vector\n",
    "M = np.array([1,2,3])\n",
    "print(M)\n",
    "print(M.shape)\n",
    "\n",
    "# \"Matriz\"\n",
    "M = np.array([[1,2,3]])\n",
    "print(M)\n",
    "print(M.shape)\n",
    "\n",
    "# Matriz\n",
    "M = np.array([[1,2,3],[4,5,6]])\n",
    "print(M)\n",
    "print(M.shape)\n",
    "\n",
    "# \"Matriz\"\n",
    "M = np.array([[1],[2],[3]])\n",
    "print(M)\n",
    "print(M.shape)\n"
   ]
  },
  {
   "cell_type": "markdown",
   "id": "720e35fd",
   "metadata": {},
   "source": [
    "Otra opción para crear matrices es directamente crearlas con ceros, unos o números aleatorios"
   ]
  },
  {
   "cell_type": "code",
   "execution_count": null,
   "id": "e6af1cc7",
   "metadata": {},
   "outputs": [],
   "source": [
    "M = np.zeros(3)\n",
    "print(M)\n",
    "M = np.zeros([3,3])\n",
    "print(M)\n",
    "\n",
    "# Observa las diferencias\n",
    "z = np.zeros([3])\n",
    "z\n",
    "z = np.zeros([3,1])\n",
    "z\n",
    "z = np.ones([3,2])\n",
    "print(z)"
   ]
  },
  {
   "cell_type": "markdown",
   "id": "842b7e70",
   "metadata": {},
   "source": [
    "El módulo `np.random` nos permite generar (o muestrear) números alatorios de distintas distribuciones. Por defecto se usa la distribución uniforme para generar números en 0 y 1, pero también se pueden generar enteros de la uniforme u otros números de la distribución normal, Poison, etc. "
   ]
  },
  {
   "cell_type": "code",
   "execution_count": null,
   "id": "1028e323",
   "metadata": {},
   "outputs": [],
   "source": [
    "M = np.random.random([1,4])\n",
    "M"
   ]
  },
  {
   "cell_type": "code",
   "execution_count": null,
   "id": "5aae81f4",
   "metadata": {},
   "outputs": [],
   "source": [
    "M = np.random.randint(-10,10,(3,4))\n",
    "M"
   ]
  },
  {
   "cell_type": "code",
   "execution_count": null,
   "id": "eae4d03a",
   "metadata": {},
   "outputs": [],
   "source": [
    "# Números aleatorios con la distribución normal con media 3 y varianza 2\n",
    "Mn = np.random.normal(3, 2, (3,4))\n",
    "Mn"
   ]
  },
  {
   "cell_type": "markdown",
   "id": "39259347",
   "metadata": {},
   "source": [
    "### Acceso a elementos de la matriz\n",
    "\n",
    "Ejemplos básicos para acceder a:\n",
    "* la primera fila de la matriz completa\n",
    "* el primer elemento de la primera fila de la matriz\n",
    "* la primera fila de la matriz completa explícitamente con :\n",
    "* la primera columna de la matriz\n",
    "* la última columna de la matriz (podríamos poner -2, -3, etc.)"
   ]
  },
  {
   "cell_type": "code",
   "execution_count": null,
   "id": "4a14b4e1",
   "metadata": {},
   "outputs": [],
   "source": [
    "print(M)"
   ]
  },
  {
   "cell_type": "code",
   "execution_count": null,
   "id": "ec4ca83f",
   "metadata": {},
   "outputs": [],
   "source": [
    "M[0,]"
   ]
  },
  {
   "cell_type": "code",
   "execution_count": null,
   "id": "4c35090b",
   "metadata": {},
   "outputs": [],
   "source": [
    "M[0,0]"
   ]
  },
  {
   "cell_type": "code",
   "execution_count": null,
   "id": "887c0a55",
   "metadata": {},
   "outputs": [],
   "source": [
    "M[0,:]"
   ]
  },
  {
   "cell_type": "code",
   "execution_count": null,
   "id": "f196107f",
   "metadata": {},
   "outputs": [],
   "source": [
    "M[:,0]"
   ]
  },
  {
   "cell_type": "code",
   "execution_count": null,
   "id": "35d49b5a",
   "metadata": {},
   "outputs": [],
   "source": [
    "M[:,-1]"
   ]
  },
  {
   "cell_type": "code",
   "execution_count": null,
   "id": "8f62427a",
   "metadata": {},
   "outputs": [],
   "source": [
    "vector = M[2,:]\n",
    "vector"
   ]
  },
  {
   "cell_type": "markdown",
   "id": "fd226e00",
   "metadata": {},
   "source": [
    "### Contatenar matrices\n",
    "\n",
    "Se pueden concatenar matrices siempre que las dimensiones de las matrices cumplan las condiciones de álgebra lineal.  Otras funciones relacionadas son vstack, hstack."
   ]
  },
  {
   "cell_type": "code",
   "execution_count": null,
   "id": "14423ea9",
   "metadata": {},
   "outputs": [],
   "source": [
    "M1 = np.array([1,2,3])\n",
    "M2 = np.array([3, -4, 5, 6])\n",
    "M3 = np.concatenate([M1,M2])\n",
    "print(M3)\n",
    "\n",
    "# Esto generaría un error\n",
    "#M1 = np.array([[1,2,3]])\n",
    "#M2 = np.array([3, -4, 5, 6])\n",
    "#M3 = np.concatenate([M1,M2])"
   ]
  },
  {
   "cell_type": "markdown",
   "id": "9bce9703",
   "metadata": {},
   "source": [
    "### Recorrido de vectores y matrices\n",
    "* Métodos de crear vectores/matrices: `np.array`, `np.zeros`...\n",
    "* Forma matrices: `shape` devuelve un vector de dos elementos con el número de filas [0] y columnas [1]"
   ]
  },
  {
   "cell_type": "code",
   "execution_count": null,
   "id": "5f11acdc",
   "metadata": {},
   "outputs": [],
   "source": [
    "v1 = np.array([5, 1, 3, 15, 4])\n",
    "v2 = np.array([5, 1, 3, 15, 4, 3, 4, 2])\n",
    "print(v1)\n",
    "print(v2)\n",
    "\n",
    "v3 = np.concatenate((v1,v2))\n",
    "\n",
    "print(v3)\n",
    "# Dimensiones vector y su longitud\n",
    "print(f'Forma: {v3.shape}')\n",
    "print(f'Longitud vector {v3.shape[0]}')"
   ]
  },
  {
   "cell_type": "markdown",
   "id": "bcaabcbd",
   "metadata": {},
   "source": [
    "Podemos recorrer los vectores/matrices con un iterador que extrae cada elemento o utilizando las coordenadas "
   ]
  },
  {
   "cell_type": "code",
   "execution_count": null,
   "id": "09555ad4",
   "metadata": {},
   "outputs": [],
   "source": [
    "\n",
    "for x in v1: \n",
    "    print(x)\n",
    "    \n",
    "for i in range(v1.shape[0]):\n",
    "    print(v1[i])\n",
    "\n",
    "for i in range(v1.shape[0]):\n",
    "    print(f'v1[{i}]={v1[i]}')\n",
    "    \n",
    "a = 15\n",
    "for x in v1: \n",
    "    if (x < a):\n",
    "        print(x)\n",
    "    else:\n",
    "        break"
   ]
  },
  {
   "cell_type": "code",
   "execution_count": null,
   "id": "576b1cda",
   "metadata": {},
   "outputs": [],
   "source": [
    "v = np.zeros(3)\n",
    "for i in range(v.shape[0]):\n",
    "    v[i] = \\\n",
    "        float(input(f'Introduce v[{i}]:'))"
   ]
  },
  {
   "cell_type": "markdown",
   "id": "d0c5a8d8",
   "metadata": {},
   "source": [
    "Calcular el máximo y la media"
   ]
  },
  {
   "cell_type": "code",
   "execution_count": null,
   "id": "a54bb06f",
   "metadata": {},
   "outputs": [],
   "source": [
    "v = v1\n",
    "media = 0\n",
    "for x in v: \n",
    "    media = media + x\n",
    "    \n",
    "media = media/v.shape[0]\n",
    "print(f'Media nuestra: {media}')\n",
    "\n",
    "ma = v[0]\n",
    "# ma = float('-Inf')\n",
    "for x in v: \n",
    "    if x > ma:\n",
    "        ma = x\n",
    "        \n",
    "print(f'Máximo nuestro: {ma}')\n",
    "\n",
    "# También con el API de numpy:\n",
    "print(f'Máximo: {v.max()} \\nMínimo: {v.min()} \\nMedia: {v.mean()}')"
   ]
  },
  {
   "cell_type": "markdown",
   "id": "e033391b",
   "metadata": {},
   "source": [
    "#### Operaciones con matrices\n",
    "\n",
    "Inicializamos una matriz con valores aleatorios y hacemos la suma de las filas y la suma de las columnas"
   ]
  },
  {
   "cell_type": "code",
   "execution_count": null,
   "id": "3a338350",
   "metadata": {},
   "outputs": [],
   "source": [
    "nf = 3\n",
    "nc = 3\n",
    "M = np.zeros((nf,nc))\n",
    "for i in range(nf):\n",
    "    for j in range(nc):\n",
    "        M[i,j] = np.random.randint(1,10)\n",
    "\n",
    "print(M)\n",
    "sumaf = np.zeros(3)\n",
    "for i in range(nf):\n",
    "    for j in range(nc):\n",
    "        sumaf[i] = sumaf[i] + M[i,j]\n",
    "\n",
    "print(sumaf)\n",
    "        \n",
    "# Clave: situamos primero el bucle que recorre\n",
    "# las columnas y luego iteramos por la fila de \n",
    "# cada columna\n",
    "sumac = np.zeros(3) \n",
    "for j in range(nc):\n",
    "    for i in range(nf):\n",
    "        sumac[j] = sumac[j] + M[i,j] \n",
    "\n",
    "print(sumac)"
   ]
  },
  {
   "cell_type": "markdown",
   "id": "bc58a9cf",
   "metadata": {},
   "source": [
    "Realizamos el producto elemento a elemento"
   ]
  },
  {
   "cell_type": "code",
   "execution_count": null,
   "id": "fb902768",
   "metadata": {},
   "outputs": [],
   "source": [
    "nf = 3\n",
    "nc = 5\n",
    "M1 = np.zeros((nf,nc))\n",
    "M2 = np.zeros((nf,nc))\n",
    "MP = np.zeros((nf,nc))\n",
    "for i in range(nf):\n",
    "    for j in range(nc):\n",
    "        M1[i,j] = np.random.randint(1,10)\n",
    "        M2[i,j] = np.random.randint(1,10)\n",
    "\n",
    "print(M1)\n",
    "print(M2)\n",
    "\n",
    "for i in range(nf):\n",
    "    for j in range(nc):\n",
    "        MP[i,j] = M1[i,j]*M2[i,j]\n",
    "\n",
    "print(MP)\n"
   ]
  },
  {
   "cell_type": "markdown",
   "id": "c8635365",
   "metadata": {},
   "source": [
    "### Sistemas de ecuaciones lineales\n",
    "\n",
    "Ejemplo de sistema de ecuaciones:\n",
    "\n",
    "$$\n",
    "\\begin{alignat}{4}\n",
    "  x_1& +x_2 & + 2x_3 &=  9&\\\\\n",
    "  2x_1& +4x_2 & - 3x_3 &=  1&\\\\\n",
    "  3x_1& +6x_2 & - 5x_3 &=  0&\\\\\n",
    "\\end{alignat}  \n",
    "$$\n",
    "\n",
    "y su expresión matricial:"
   ]
  },
  {
   "cell_type": "code",
   "execution_count": null,
   "id": "1de7d305",
   "metadata": {},
   "outputs": [],
   "source": [
    "A = np.array([[1,1,2],[2,4,-3],[3,6,-5]])\n",
    "b = np.array([9,1,0])\n",
    "\n",
    "print(np.linalg.det(A))\n",
    "print(np.linalg.matrix_rank(A))\n",
    "x = np.linalg.solve(A, b)\n",
    "print(x)"
   ]
  },
  {
   "cell_type": "markdown",
   "id": "2651bb3a",
   "metadata": {},
   "source": [
    "nuestra única solución es $$x=(1,2,3)$$\n",
    "\n",
    "Matriz inversa y determinante:"
   ]
  },
  {
   "cell_type": "code",
   "execution_count": null,
   "id": "84a4fbdd",
   "metadata": {},
   "outputs": [],
   "source": [
    "Ainv = np.linalg.inv(A)\n",
    "print(Ainv)\n",
    "Adet = np.linalg.det(A)\n",
    "print(Adet)"
   ]
  },
  {
   "cell_type": "markdown",
   "id": "e247939a",
   "metadata": {},
   "source": [
    "## Cadenas\n",
    "\n",
    "Es un tipo de dato inmutable, esto es, no se puede modificar así que para cualquier cambio tendremos que crear una cadena nueva con los cambios. \n",
    "\n",
    "No podremos hacer cosas del tipo: \n",
    "\n",
    "```python\n",
    "cadena = 'hola'\n",
    "cadena[0] = 'H'\n",
    "```\n",
    "\n",
    "que están permitidas en otros lenguajes de programación"
   ]
  },
  {
   "cell_type": "code",
   "execution_count": null,
   "id": "536b66a8",
   "metadata": {},
   "outputs": [],
   "source": [
    "a = '  Hola mundo  '\n",
    "b = '  Cómo estás? '\n",
    "\n",
    "# Concatenar\n",
    "print(a+b)\n",
    "# Extraer una parte de la cadena\n",
    "print(a[2:7])\n",
    "# Tamaño\n",
    "print(len(a))\n",
    "# Eliminar espacios al inicio y final de la cadena\n",
    "print(a.strip()+b.strip())\n",
    "# Mayúsculas y minúsculas\n",
    "print(a.lower()+b.upper())\n",
    "# Reemplazar todas las ocurrencias\n",
    "print(a.replace('o','0'))\n",
    "# Partir la cadena en subcadenas separadas por un carácter. Por defecto espacio en blanco. \n",
    "print(a.split())\n",
    "print(a.split('o'))\n",
    "print('hola'.upper() in a.upper())\n",
    "print(b in a)\n",
    "\n",
    "#Ejemplos y otras funciones en https://www.w3schools.com/python/python_strings.asp\n"
   ]
  },
  {
   "cell_type": "markdown",
   "id": "dee4cdaf",
   "metadata": {},
   "source": [
    "## Listas\n",
    "\n",
    "Resumen rápido: \n",
    "* Las listas nos permiten almacenar distintos elementos de cualquier tipo.\n",
    "* Se puede acceder a sus elementos de forma similar a las matrices \n",
    "* Existen funciones para añadir (`append()`) y extraer eliminando (`pop()`) elementos al final de la lista. "
   ]
  },
  {
   "cell_type": "code",
   "execution_count": null,
   "id": "d3891467",
   "metadata": {},
   "outputs": [],
   "source": [
    "# Declaración de lista vacía\n",
    "lista = list()\n",
    "lista.append(5)\n",
    "lista.append(True)\n",
    "lista.append('hola')\n",
    "print(lista)\n",
    "\n",
    "for i in lista:\n",
    "    print(type(i))\n",
    "    \n",
    "print(lista.pop())\n",
    "print(lista.pop())\n",
    "print(lista.pop())\n",
    "\n",
    "# Declaración de lista con elementos\n",
    "lista = [1,2, True, 'hola']"
   ]
  },
  {
   "cell_type": "code",
   "execution_count": null,
   "id": "b0658625",
   "metadata": {},
   "outputs": [],
   "source": [
    "lista[2:]"
   ]
  },
  {
   "cell_type": "code",
   "execution_count": null,
   "id": "587bb2b0",
   "metadata": {},
   "outputs": [],
   "source": [
    "lista = [1,2, True, 'hola']\n",
    "print(lista)\n",
    "lista.reverse()\n",
    "print(lista)\n",
    "# Esto daría un error al haber tipos diferentes\n",
    "# lista.sort()\n",
    "lista = [3, 4, -8, 0]\n",
    "lista.sort()\n",
    "print(lista)\n",
    "\n",
    "# Insertar en una posición\n",
    "lista.insert(2,34)\n",
    "print(lista)\n",
    "# Obtener la posición de la primera aparición de un elemento\n",
    "lista.index(-8)"
   ]
  },
  {
   "cell_type": "code",
   "execution_count": null,
   "id": "84cbaf31",
   "metadata": {},
   "outputs": [],
   "source": []
  }
 ],
 "metadata": {
  "kernelspec": {
   "display_name": "Python 3 (ipykernel)",
   "language": "python",
   "name": "python3"
  },
  "language_info": {
   "codemirror_mode": {
    "name": "ipython",
    "version": 3
   },
   "file_extension": ".py",
   "mimetype": "text/x-python",
   "name": "python",
   "nbconvert_exporter": "python",
   "pygments_lexer": "ipython3",
   "version": "3.7.13"
  }
 },
 "nbformat": 4,
 "nbformat_minor": 5
}
