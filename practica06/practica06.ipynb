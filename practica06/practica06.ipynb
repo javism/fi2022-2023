{
 "cells": [
  {
   "cell_type": "markdown",
   "id": "7d315bcf",
   "metadata": {},
   "source": [
    "# Práctica VI\n",
    "\n",
    "[![Open In Colab](https://colab.research.google.com/assets/colab-badge.svg)](https://colab.research.google.com/github/javism/fi2022-2023/blob/main/practica06/practica06.ipynb)\n",
    "\n",
    "* Vectores y Matrices: almacenan este tipo de datos con contenido numérico (bool, int, float). Habitualmente no añadimos y quitamos elementos salvo con operaciones puntuales de contatenación. \n",
    "* Listas: tipo de datos para almacenar otros datos de cualquier tipo. Están diseñados como estructura dinámica en la que añadir y extraer elementos habitualmente. \n",
    "\n",
    "Recursos: \n",
    "* [Cómo resolver sistemas de ecuaciones lineales con numpy](https://joanby.github.io/bookdown-algebra/ecuaciones-y-sistemas-lineales-con-r-python-y-octave.html#trabajando-con-python)\n",
    "\n",
    "## Vectores y Matrices\n",
    "\n",
    "Utilizaremos la biblioteca `numpy` para crear matrices y vector. Por convención siempre se nombra como `np`\n",
    "\n",
    "Crear una matriz o vector con valores concretos. Observa las diferentes formas (`shape`) que adquieren. "
   ]
  },
  {
   "cell_type": "code",
   "execution_count": 22,
   "id": "2511c84b",
   "metadata": {},
   "outputs": [
    {
     "name": "stdout",
     "output_type": "stream",
     "text": [
      "[1 2 3]\n",
      "(3,)\n",
      "[[1 2 3]]\n",
      "(1, 3)\n",
      "[[1 2 3]\n",
      " [4 5 6]]\n",
      "(2, 3)\n",
      "[[1]\n",
      " [2]\n",
      " [3]]\n",
      "(3, 1)\n"
     ]
    }
   ],
   "source": [
    "import numpy as np\n",
    "\n",
    "# Vector\n",
    "M = np.array([1,2,3])\n",
    "print(M)\n",
    "print(M.shape)\n",
    "\n",
    "# \"Matriz\"\n",
    "M = np.array([[1,2,3]])\n",
    "print(M)\n",
    "print(M.shape)\n",
    "\n",
    "# Matriz\n",
    "M = np.array([[1,2,3],[4,5,6]])\n",
    "print(M)\n",
    "print(M.shape)\n",
    "\n",
    "# \"Matriz\"\n",
    "M = np.array([[1],[2],[3]])\n",
    "print(M)\n",
    "print(M.shape)\n"
   ]
  },
  {
   "cell_type": "markdown",
   "id": "720e35fd",
   "metadata": {},
   "source": [
    "Otra opción para crear matrices es directamente crearlas con ceros, unos o números aleatorios"
   ]
  },
  {
   "cell_type": "code",
   "execution_count": 23,
   "id": "e6af1cc7",
   "metadata": {},
   "outputs": [
    {
     "name": "stdout",
     "output_type": "stream",
     "text": [
      "[0. 0. 0.]\n",
      "[[0. 0. 0.]\n",
      " [0. 0. 0.]\n",
      " [0. 0. 0.]]\n",
      "[[1. 1.]\n",
      " [1. 1.]\n",
      " [1. 1.]]\n"
     ]
    }
   ],
   "source": [
    "M = np.zeros(3)\n",
    "print(M)\n",
    "M = np.zeros([3,3])\n",
    "print(M)\n",
    "\n",
    "# Observa las diferencias\n",
    "z = np.zeros([3])\n",
    "z\n",
    "z = np.zeros([3,1])\n",
    "z\n",
    "z = np.ones([3,2])\n",
    "print(z)"
   ]
  },
  {
   "cell_type": "markdown",
   "id": "842b7e70",
   "metadata": {},
   "source": [
    "El módulo `np.random` nos permite generar (o muestrear) números alatorios de distintas distribuciones. Por defecto se usa la distribución uniforme para generar números en 0 y 1, pero también se pueden generar enteros de la uniforme u otros números de la distribución normal, Poison, etc. "
   ]
  },
  {
   "cell_type": "code",
   "execution_count": 24,
   "id": "1028e323",
   "metadata": {},
   "outputs": [
    {
     "data": {
      "text/plain": [
       "array([[0.59139526, 0.19773657, 0.1629087 , 0.86775647]])"
      ]
     },
     "execution_count": 24,
     "metadata": {},
     "output_type": "execute_result"
    }
   ],
   "source": [
    "M = np.random.random([1,4])\n",
    "M"
   ]
  },
  {
   "cell_type": "code",
   "execution_count": 25,
   "id": "5aae81f4",
   "metadata": {},
   "outputs": [
    {
     "data": {
      "text/plain": [
       "array([[  6,   3,  -7,   9],\n",
       "       [ -2,   9,  -1,   2],\n",
       "       [ -7,   9, -10,  -2]])"
      ]
     },
     "execution_count": 25,
     "metadata": {},
     "output_type": "execute_result"
    }
   ],
   "source": [
    "M = np.random.randint(-10,10,(3,4))\n",
    "M"
   ]
  },
  {
   "cell_type": "code",
   "execution_count": 26,
   "id": "eae4d03a",
   "metadata": {},
   "outputs": [
    {
     "data": {
      "text/plain": [
       "array([[ 2.07851931,  4.13154333,  0.03125711,  5.13203979],\n",
       "       [ 3.54035778,  5.59426043,  4.24266025, -0.96119269],\n",
       "       [ 4.29425355,  5.25114221,  5.8375844 , -0.41234678]])"
      ]
     },
     "execution_count": 26,
     "metadata": {},
     "output_type": "execute_result"
    }
   ],
   "source": [
    "# Números aleatorios con la distribución normal con media 3 y varianza 2\n",
    "Mn = np.random.normal(3, 2, (3,4))\n",
    "Mn"
   ]
  },
  {
   "cell_type": "markdown",
   "id": "39259347",
   "metadata": {},
   "source": [
    "### Acceso a elementos de la matriz\n",
    "\n",
    "Ejemplos básicos para acceder a:\n",
    "* la primera fila de la matriz completa\n",
    "* el primer elemento de la primera fila de la matriz\n",
    "* la primera fila de la matriz completa explícitamente con :\n",
    "* la primera columna de la matriz\n",
    "* la última columna de la matriz (podríamos poner -2, -3, etc.)"
   ]
  },
  {
   "cell_type": "code",
   "execution_count": 27,
   "id": "4a14b4e1",
   "metadata": {},
   "outputs": [
    {
     "name": "stdout",
     "output_type": "stream",
     "text": [
      "[[  6   3  -7   9]\n",
      " [ -2   9  -1   2]\n",
      " [ -7   9 -10  -2]]\n"
     ]
    }
   ],
   "source": [
    "print(M)"
   ]
  },
  {
   "cell_type": "code",
   "execution_count": 28,
   "id": "ec4ca83f",
   "metadata": {},
   "outputs": [
    {
     "data": {
      "text/plain": [
       "array([ 6,  3, -7,  9])"
      ]
     },
     "execution_count": 28,
     "metadata": {},
     "output_type": "execute_result"
    }
   ],
   "source": [
    "M[0,]"
   ]
  },
  {
   "cell_type": "code",
   "execution_count": 29,
   "id": "4c35090b",
   "metadata": {},
   "outputs": [
    {
     "data": {
      "text/plain": [
       "6"
      ]
     },
     "execution_count": 29,
     "metadata": {},
     "output_type": "execute_result"
    }
   ],
   "source": [
    "M[0,0]"
   ]
  },
  {
   "cell_type": "code",
   "execution_count": 30,
   "id": "887c0a55",
   "metadata": {},
   "outputs": [
    {
     "data": {
      "text/plain": [
       "array([ 6,  3, -7,  9])"
      ]
     },
     "execution_count": 30,
     "metadata": {},
     "output_type": "execute_result"
    }
   ],
   "source": [
    "M[0,:]"
   ]
  },
  {
   "cell_type": "code",
   "execution_count": 31,
   "id": "f196107f",
   "metadata": {},
   "outputs": [
    {
     "data": {
      "text/plain": [
       "array([ 6, -2, -7])"
      ]
     },
     "execution_count": 31,
     "metadata": {},
     "output_type": "execute_result"
    }
   ],
   "source": [
    "M[:,0]"
   ]
  },
  {
   "cell_type": "code",
   "execution_count": 32,
   "id": "35d49b5a",
   "metadata": {},
   "outputs": [
    {
     "data": {
      "text/plain": [
       "array([ 9,  2, -2])"
      ]
     },
     "execution_count": 32,
     "metadata": {},
     "output_type": "execute_result"
    }
   ],
   "source": [
    "M[:,-1]"
   ]
  },
  {
   "cell_type": "code",
   "execution_count": 33,
   "id": "8f62427a",
   "metadata": {},
   "outputs": [
    {
     "data": {
      "text/plain": [
       "array([ -7,   9, -10,  -2])"
      ]
     },
     "execution_count": 33,
     "metadata": {},
     "output_type": "execute_result"
    }
   ],
   "source": [
    "vector = M[2,:]\n",
    "vector"
   ]
  },
  {
   "cell_type": "markdown",
   "id": "fd226e00",
   "metadata": {},
   "source": [
    "### Contatenar matrices\n",
    "\n",
    "Se pueden concatenar matrices siempre que las dimensiones de las matrices cumplan las condiciones de álgebra lineal"
   ]
  },
  {
   "cell_type": "code",
   "execution_count": 34,
   "id": "14423ea9",
   "metadata": {},
   "outputs": [
    {
     "name": "stdout",
     "output_type": "stream",
     "text": [
      "[ 1  2  3  3 -4  5  6]\n"
     ]
    }
   ],
   "source": [
    "M1 = np.array([1,2,3])\n",
    "M2 = np.array([3, -4, 5, 6])\n",
    "M3 = np.concatenate([M1,M2])\n",
    "print(M3)\n",
    "\n",
    "# Esto generaría un error\n",
    "#M1 = np.array([[1,2,3]])\n",
    "#M2 = np.array([3, -4, 5, 6])\n",
    "#M3 = np.concatenate([M1,M2])"
   ]
  },
  {
   "cell_type": "markdown",
   "id": "9bce9703",
   "metadata": {},
   "source": [
    "## Recorrido de vectores y matrices\n",
    "* Métodos de crear vectores/matrices: `np.array`, `np.zeros`...\n",
    "* Forma matrices: `shape` devuelve un vector de dos elementos con el número de filas [0] y columnas [1]"
   ]
  },
  {
   "cell_type": "code",
   "execution_count": 35,
   "id": "5f11acdc",
   "metadata": {},
   "outputs": [
    {
     "name": "stdout",
     "output_type": "stream",
     "text": [
      "[ 5  1  3 15  4]\n",
      "[ 5  1  3 15  4  3  4  2]\n",
      "[ 5  1  3 15  4  5  1  3 15  4  3  4  2]\n",
      "Forma: (13,)\n",
      "Longitud vector 13\n"
     ]
    }
   ],
   "source": [
    "v1 = np.array([5, 1, 3, 15, 4])\n",
    "v2 = np.array([5, 1, 3, 15, 4, 3, 4, 2])\n",
    "print(v1)\n",
    "print(v2)\n",
    "\n",
    "v3 = np.concatenate((v1,v2))\n",
    "\n",
    "print(v3)\n",
    "# Dimensiones vector y su longitud\n",
    "print(f'Forma: {v3.shape}')\n",
    "print(f'Longitud vector {v3.shape[0]}')"
   ]
  },
  {
   "cell_type": "markdown",
   "id": "bcaabcbd",
   "metadata": {},
   "source": [
    "Podemos recorrer los vectores/matrices con un iterador que extrae cada elemento o utilizando las coordenadas "
   ]
  },
  {
   "cell_type": "code",
   "execution_count": 36,
   "id": "09555ad4",
   "metadata": {},
   "outputs": [
    {
     "name": "stdout",
     "output_type": "stream",
     "text": [
      "5\n",
      "1\n",
      "3\n",
      "15\n",
      "4\n",
      "5\n",
      "1\n",
      "3\n",
      "15\n",
      "4\n",
      "v1[0]=5\n",
      "v1[1]=1\n",
      "v1[2]=3\n",
      "v1[3]=15\n",
      "v1[4]=4\n",
      "5\n",
      "1\n",
      "3\n"
     ]
    }
   ],
   "source": [
    "\n",
    "for x in v1: \n",
    "    print(x)\n",
    "    \n",
    "for i in range(v1.shape[0]):\n",
    "    print(v1[i])\n",
    "\n",
    "for i in range(v1.shape[0]):\n",
    "    print(f'v1[{i}]={v1[i]}')\n",
    "    \n",
    "a = 15\n",
    "for x in v1: \n",
    "    if (x < a):\n",
    "        print(x)\n",
    "    else:\n",
    "        break"
   ]
  },
  {
   "cell_type": "code",
   "execution_count": 37,
   "id": "576b1cda",
   "metadata": {},
   "outputs": [
    {
     "name": "stdout",
     "output_type": "stream",
     "text": [
      "Introduce v[0]:1\n",
      "Introduce v[1]:2\n",
      "Introduce v[2]:3\n"
     ]
    }
   ],
   "source": [
    "v = np.zeros(3)\n",
    "for i in range(v.shape[0]):\n",
    "    v[i] = \\\n",
    "        float(input(f'Introduce v[{i}]:'))"
   ]
  },
  {
   "cell_type": "markdown",
   "id": "d0c5a8d8",
   "metadata": {},
   "source": [
    "Calcular el máximo y la media"
   ]
  },
  {
   "cell_type": "code",
   "execution_count": 38,
   "id": "a54bb06f",
   "metadata": {},
   "outputs": [
    {
     "name": "stdout",
     "output_type": "stream",
     "text": [
      "Media nuestra: 5.6\n",
      "Máximo nuestro: 15\n",
      "Máximo: 15 \n",
      "Mínimo: 1 \n",
      "Media: 5.6\n"
     ]
    }
   ],
   "source": [
    "v = v1\n",
    "media = 0\n",
    "for x in v: \n",
    "    media = media + x\n",
    "    \n",
    "media = media/v.shape[0]\n",
    "print(f'Media nuestra: {media}')\n",
    "\n",
    "ma = v[0]\n",
    "# ma = float('-Inf')\n",
    "for x in v: \n",
    "    if x > ma:\n",
    "        ma = x\n",
    "        \n",
    "print(f'Máximo nuestro: {ma}')\n",
    "\n",
    "# También con el API de numpy:\n",
    "print(f'Máximo: {v.max()} \\nMínimo: {v.min()} \\nMedia: {v.mean()}')"
   ]
  },
  {
   "cell_type": "markdown",
   "id": "dee4cdaf",
   "metadata": {},
   "source": [
    "## Listas\n",
    "\n",
    "Resumen rápido: \n",
    "* Las listas nos permiten almacenar distintos elementos de cualquier tipo.\n",
    "* Se puede acceder a sus elementos de forma similar a las matrices \n",
    "* Existen funciones para añadir (`append()`) y extraer eliminando (`pop()`) elementos al final de la lista. "
   ]
  },
  {
   "cell_type": "code",
   "execution_count": 39,
   "id": "d3891467",
   "metadata": {},
   "outputs": [
    {
     "name": "stdout",
     "output_type": "stream",
     "text": [
      "[5, True, 'hola']\n",
      "<class 'int'>\n",
      "<class 'bool'>\n",
      "<class 'str'>\n",
      "hola\n",
      "True\n",
      "5\n"
     ]
    }
   ],
   "source": [
    "# Declaración de lista vacía\n",
    "lista = list()\n",
    "lista.append(5)\n",
    "lista.append(True)\n",
    "lista.append('hola')\n",
    "print(lista)\n",
    "\n",
    "for i in lista:\n",
    "    print(type(i))\n",
    "    \n",
    "print(lista.pop())\n",
    "print(lista.pop())\n",
    "print(lista.pop())\n",
    "\n",
    "# Declaración de lista con elementos\n",
    "lista = [1,2, True, 'hola']"
   ]
  },
  {
   "cell_type": "code",
   "execution_count": 40,
   "id": "b0658625",
   "metadata": {},
   "outputs": [
    {
     "data": {
      "text/plain": [
       "[True, 'hola']"
      ]
     },
     "execution_count": 40,
     "metadata": {},
     "output_type": "execute_result"
    }
   ],
   "source": [
    "lista[2:]"
   ]
  },
  {
   "cell_type": "code",
   "execution_count": null,
   "id": "587bb2b0",
   "metadata": {},
   "outputs": [],
   "source": []
  }
 ],
 "metadata": {
  "kernelspec": {
   "display_name": "Python 3 (ipykernel)",
   "language": "python",
   "name": "python3"
  },
  "language_info": {
   "codemirror_mode": {
    "name": "ipython",
    "version": 3
   },
   "file_extension": ".py",
   "mimetype": "text/x-python",
   "name": "python",
   "nbconvert_exporter": "python",
   "pygments_lexer": "ipython3",
   "version": "3.7.13"
  }
 },
 "nbformat": 4,
 "nbformat_minor": 5
}
