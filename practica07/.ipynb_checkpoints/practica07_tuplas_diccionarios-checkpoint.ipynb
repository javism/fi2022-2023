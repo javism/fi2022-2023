{
 "cells": [
  {
   "cell_type": "markdown",
   "id": "31237eb6",
   "metadata": {},
   "source": [
    "# Tuplas y diccionarios\n",
    "\n",
    "[![Open In Colab](https://colab.research.google.com/assets/colab-badge.svg)](https://colab.research.google.com/github/javism/fi2022-2023/blob/main/practica07/practica07_tuplas_diccionarios.ipynb)\n",
    "\n",
    "Habitualmente se explican/documentan las listas, tuplas y diccionarios de manera conjunta. Es por eso que los encontraréis juntos en cualquier recurso sobre Python. \n",
    "\n",
    "Tienes todo lo que necesitas saber sobre listas, tuplas y diccionarios en la documentación oficial: [5. Estructuras de datos](https://docs.python.org/es/3/tutorial/datastructures.html). De la documentación oficial es optativa, aunque interesante, la parte sobre listas de compresión y conjuntos.\n",
    "\n",
    "## Tuplas\n",
    "\n",
    "Las **tuplas** a muchos efectos son **similares a la listas**: \n",
    "* Almacenan secuencias de datos de cualquier tipo\n",
    "* Los operadores de acceso y rebanado/troceado son similares\n",
    "\n",
    "Pero **diferentes** en: \n",
    "* Son tipos inmutables, es decir, no se pueden cambiar después de crearlos\n",
    "* Permiten la operación de empaquetado y desempaquetado\n",
    "* Consultas con el operador `in`\n",
    "\n",
    "A la hora de crearlas y visualizarlas, las tuplas se indican con paréntesis y las listas con corchetes. "
   ]
  },
  {
   "cell_type": "code",
   "execution_count": null,
   "id": "8262daef",
   "metadata": {},
   "outputs": [],
   "source": [
    "# Tupla\n",
    "t = 12345, 54321, '¡hola!'\n",
    "print(t)\n",
    "t[0]\n",
    "t = (12345, 54321, '¡hola!')\n",
    "print(t)\n",
    "print(t[0])\n",
    "print(t[1:3])\n",
    "print(t[-1])"
   ]
  },
  {
   "cell_type": "code",
   "execution_count": null,
   "id": "b1a8ac56",
   "metadata": {},
   "outputs": [],
   "source": [
    "# Lista\n",
    "li = [12345, 54321, '¡hola!']\n",
    "print(li)\n",
    "li[0]"
   ]
  },
  {
   "cell_type": "markdown",
   "id": "bebef141",
   "metadata": {},
   "source": [
    "Si intentamos modificar la tupla tendremos un error de tipo: "
   ]
  },
  {
   "cell_type": "code",
   "execution_count": null,
   "id": "69bef101",
   "metadata": {},
   "outputs": [],
   "source": [
    "#t[0] = 3"
   ]
  },
  {
   "cell_type": "markdown",
   "id": "ab7a19fd",
   "metadata": {},
   "source": [
    "Al crear una tupla decimos que estamos *empaquetando* valores, mientras que se pueden extraer los valores directamente a las variables *desempaquetando*:"
   ]
  },
  {
   "cell_type": "code",
   "execution_count": null,
   "id": "a7538895",
   "metadata": {},
   "outputs": [],
   "source": [
    "t = (1, 2, 3)\n",
    "a, b, c = t\n",
    "print(t)\n",
    "print(a,b,c)"
   ]
  },
  {
   "cell_type": "markdown",
   "id": "b14cda48",
   "metadata": {},
   "source": [
    "Las tuplas también se pueden anidar: "
   ]
  },
  {
   "cell_type": "code",
   "execution_count": null,
   "id": "e4865678",
   "metadata": {},
   "outputs": [],
   "source": [
    "tu = ((12345, 54321, '¡hola!'), (1, 2, 3, 4, 5))\n",
    "print(tu[0])\n",
    "print(tu[1])"
   ]
  },
  {
   "cell_type": "markdown",
   "id": "fcacede1",
   "metadata": {},
   "source": [
    "Diferencias consultando si un elemento está dentro de la tupla o lista: "
   ]
  },
  {
   "cell_type": "code",
   "execution_count": null,
   "id": "dae8f33b",
   "metadata": {},
   "outputs": [],
   "source": [
    "t = (12345, 54321, '¡hola!')\n",
    "li = [12345, 54321, '¡hola!']\n",
    "\n",
    "print(t)\n",
    "print('¡hola!' in tu)\n",
    "print(li)\n",
    "print('¡hola!' in li)"
   ]
  },
  {
   "cell_type": "markdown",
   "id": "73844259",
   "metadata": {},
   "source": [
    "## Diccionarios\n",
    "\n",
    "A diferencia de las secuencias como listas y tuplas, que se indexan mediante un rango numérico, los diccionarios se indexan con claves, que pueden ser cualquier tipo inmutable; las cadenas y números siempre pueden ser claves. \n",
    "\n",
    "Un diccionario es un conjunto de pares clave:valor donde las claves son únicas. \n",
    "\n",
    "Los diccionarios tienen muchas aplicaciones, para empezar, se utilizan en funciones que reciben un número variable de parámetros (como en el caso de Matplotlib).\n",
    "\n",
    "Veamos varios ejemplos: "
   ]
  },
  {
   "cell_type": "code",
   "execution_count": null,
   "id": "c5941a93",
   "metadata": {},
   "outputs": [],
   "source": [
    "tel = {'gestion': 8592, 'nominas': 5210}\n",
    "print(type(tel))\n",
    "print(tel)\n",
    "\n",
    "print(f\"El teléfono de nominas es {tel['nominas']}\")"
   ]
  },
  {
   "cell_type": "markdown",
   "id": "4fd3bfdc",
   "metadata": {},
   "source": [
    "Operaciones sobre el dieccionario: "
   ]
  },
  {
   "cell_type": "markdown",
   "id": "d569ab9f",
   "metadata": {},
   "source": [
    "Modificar valor dado la clave:"
   ]
  },
  {
   "cell_type": "code",
   "execution_count": null,
   "id": "91cb8147",
   "metadata": {},
   "outputs": [],
   "source": [
    "tel['gestion'] = 9999\n"
   ]
  },
  {
   "cell_type": "markdown",
   "id": "5a817a85",
   "metadata": {},
   "source": [
    "Nuevo par clave:valor:"
   ]
  },
  {
   "cell_type": "code",
   "execution_count": null,
   "id": "63d07009",
   "metadata": {},
   "outputs": [],
   "source": [
    "tel['secretaria'] = 4455\n",
    "print(tel)"
   ]
  },
  {
   "cell_type": "markdown",
   "id": "922fa1d6",
   "metadata": {},
   "source": [
    "Eliminar un elemento:ç\n",
    "* `del` elimina el elemento\n",
    "* `pop` extrae el valor de la clave y elimina el elemento del diccionario"
   ]
  },
  {
   "cell_type": "code",
   "execution_count": null,
   "id": "47b83255",
   "metadata": {},
   "outputs": [],
   "source": [
    "del tel['gestion']\n",
    "tel.pop('secretaria')\n"
   ]
  },
  {
   "cell_type": "code",
   "execution_count": null,
   "id": "e313158f",
   "metadata": {},
   "outputs": [],
   "source": [
    "print(tel)"
   ]
  },
  {
   "cell_type": "markdown",
   "id": "13d0ea63",
   "metadata": {},
   "source": [
    "Varios: \n",
    "    "
   ]
  },
  {
   "cell_type": "code",
   "execution_count": null,
   "id": "ea230bed",
   "metadata": {},
   "outputs": [],
   "source": [
    "print(tel.keys())\n",
    "print(tel.values())"
   ]
  },
  {
   "cell_type": "markdown",
   "id": "85481985",
   "metadata": {},
   "source": []
  }
 ],
 "metadata": {
  "kernelspec": {
   "display_name": "Python 3 (ipykernel)",
   "language": "python",
   "name": "python3"
  },
  "language_info": {
   "codemirror_mode": {
    "name": "ipython",
    "version": 3
   },
   "file_extension": ".py",
   "mimetype": "text/x-python",
   "name": "python",
   "nbconvert_exporter": "python",
   "pygments_lexer": "ipython3",
   "version": "3.7.13"
  }
 },
 "nbformat": 4,
 "nbformat_minor": 5
}
