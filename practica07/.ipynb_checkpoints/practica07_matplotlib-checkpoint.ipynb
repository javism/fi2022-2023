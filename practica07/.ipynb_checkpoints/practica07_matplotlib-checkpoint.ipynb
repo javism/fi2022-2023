{
 "cells": [
  {
   "cell_type": "markdown",
   "id": "b365202c",
   "metadata": {},
   "source": [
    "# Matplotlib\n",
    "\n",
    "[![Open In Colab](https://colab.research.google.com/assets/colab-badge.svg)](https://colab.research.google.com/github/javism/fi2022-2023/blob/main/practica07/practica07_matplotlib.ipynb)\n",
    "\n",
    "[Matplotlib](https://matplotlib.org/) es una completa biblioteca para crear visualizaciones estáticas, animadas e interactivas en Python.\n",
    "\n",
    "Si usas python en conda lo habitual es que esté instalada por defecto. \n",
    "\n",
    "Instalación con conda: \n",
    "```\n",
    "conda install matplotlib\n",
    "```\n",
    "\n",
    "Instalación con pip: \n",
    "```\n",
    "pip install matplotlib\n",
    "```\n",
    "\n",
    "La documentación oficial es muy completa y tiene organizados tutoriales por niveles de dificultad en https://matplotlib.org/stable/tutorials/index.html. Echa un vistazo:\n",
    "* [Quick start guide](https://matplotlib.org/stable/tutorials/introductory/quick_start.html)\n",
    "* [Pyplot tutorial](https://matplotlib.org/stable/tutorials/introductory/pyplot.html#sphx-glr-tutorials-introductory-pyplot-py) (este es suficiente para la asignatura)\n",
    "* [Galería de ejemplos](https://matplotlib.org/stable/gallery/index.html)\n"
   ]
  },
  {
   "cell_type": "markdown",
   "id": "d2c4cb42",
   "metadata": {},
   "source": [
    "## Gáfico básico"
   ]
  },
  {
   "cell_type": "markdown",
   "id": "6fcf337c",
   "metadata": {},
   "source": [
    "Primer gráfico de ejemplo (el eje x se genera automáticamente si no se pasa un vector):"
   ]
  },
  {
   "cell_type": "code",
   "execution_count": null,
   "id": "ad0c87af",
   "metadata": {},
   "outputs": [],
   "source": [
    "import matplotlib.pyplot as plt\n",
    "plt.plot([1, 2, 3, 4, 3])\n",
    "plt.ylabel('números')\n",
    "plt.show()"
   ]
  },
  {
   "cell_type": "markdown",
   "id": "5eddc5ed",
   "metadata": {},
   "source": [
    "`plot` es una función versátil, que acepta un número arbitrario de argumentos. Por ejemplo, para trazar x frente a y, puede escribir:"
   ]
  },
  {
   "cell_type": "code",
   "execution_count": null,
   "id": "357772af",
   "metadata": {},
   "outputs": [],
   "source": [
    "plt.plot([1, 2, 3, 4], [1, 4, 9, 16])"
   ]
  },
  {
   "cell_type": "markdown",
   "id": "4771ab5d",
   "metadata": {},
   "source": [
    "## Formato gráficos\n",
    "\n",
    "Para cada par de argumentos x, y, hay un tercer argumento opcional que es la cadena de formato que indica el color y el tipo de línea del gráfico"
   ]
  },
  {
   "cell_type": "code",
   "execution_count": null,
   "id": "46760724",
   "metadata": {},
   "outputs": [],
   "source": [
    "plt.plot([1, 2, 3, 4], [1, 4, 9, 16], 'ro')"
   ]
  },
  {
   "cell_type": "markdown",
   "id": "a3191f95",
   "metadata": {},
   "source": [
    "Por defecto se usa la línea en azul, que se especifica con 'b-'. Esto genera el mismo efecto que no ponerlo. Puedes ver todas las opciones de formato de puntos, líneas y colores aquí:\n",
    "* https://matplotlib.org/stable/api/markers_api.html#module-matplotlib.markers\n",
    "* https://matplotlib.org/stable/gallery/lines_bars_and_markers/linestyles.html\n"
   ]
  },
  {
   "cell_type": "code",
   "execution_count": null,
   "id": "c5bb43ac",
   "metadata": {},
   "outputs": [],
   "source": [
    "plt.plot([1, 2, 3, 4], [1, 4, 9, 16], 'b-')"
   ]
  },
  {
   "cell_type": "markdown",
   "id": "967193c9",
   "metadata": {},
   "source": [
    "## Series de datos como np.array\n",
    "\n",
    "El tipo de dato más natural para dibujar es el array de numpy. El siguiente ejemplo dibuja varias funciones con diferentes estilo. Observa que siempre tenemos los argumentos de 3 en 3 (x, y, estilo) para cada serie de datos. \n",
    "\n",
    "Ejercicios: \n",
    "* Prueba a cambiar colores y a añadir una cuarta serie de datos con otra función, por ejemplo: `t, 40+20*np.sin(t*10), 'y-'`\n",
    "* Cambia los parámetros de arange para ver diferentes efectos. \n",
    "* Se pueden dibujar varias series en la misma llamada a plot o en sucesivas que se dibujan sobre la misma figura. \n",
    "\n"
   ]
  },
  {
   "cell_type": "code",
   "execution_count": null,
   "id": "38269424",
   "metadata": {},
   "outputs": [],
   "source": [
    "import numpy as np\n",
    "\n",
    "# Genera datos uniformemente distribuídos entre 0 y 5 en intervaloes de 0.2\n",
    "t = np.arange(0., 5., 0.2)\n",
    "\n",
    "# red dashes, blue squares and green triangles\n",
    "plt.plot(t, t, 'r--', t, t**2, 'bs', t, t**3, 'g^')\n",
    "plt.show()"
   ]
  },
  {
   "cell_type": "code",
   "execution_count": null,
   "id": "90122375",
   "metadata": {},
   "outputs": [],
   "source": [
    "import numpy as np\n",
    "\n",
    "# Genera datos uniformemente distribuídos entre 0 y 5 en intervaloes de 0.2\n",
    "t = np.arange(0., 5., 0.2)\n",
    "\n",
    "# red dashes, blue squares and green triangles\n",
    "plt.plot(t, t, 'r--')\n",
    "plt.plot(t, t**2, 'bs')\n",
    "plt.plot(t, t**3, 'g^')\n",
    "t = np.arange(0., 5., 0.2)\n",
    "plt.show()"
   ]
  },
  {
   "cell_type": "markdown",
   "id": "0b249141",
   "metadata": {},
   "source": [
    "## Trabajo con variables categóricas"
   ]
  },
  {
   "cell_type": "code",
   "execution_count": null,
   "id": "21c822b6",
   "metadata": {},
   "outputs": [],
   "source": [
    "names = ['grupo a', 'grupo b', 'grupo c']\n",
    "values = [1, 10, 100]\n",
    "\n",
    "plt.bar(names, values)"
   ]
  },
  {
   "cell_type": "markdown",
   "id": "7002feea",
   "metadata": {},
   "source": [
    "Varias llamadas a plot() dibujan sobre la misma figura. Si queremos hacer varios dibujos tendremos que usar `plt.subplot()` o generar una gráfica nueva sucesivamente llamando a `plt.figure()`. "
   ]
  },
  {
   "cell_type": "code",
   "execution_count": null,
   "id": "7935d904",
   "metadata": {},
   "outputs": [],
   "source": [
    "plt.figure(figsize=(9, 3))\n",
    "\n",
    "plt.subplot(131)\n",
    "plt.bar(names, values)\n",
    "plt.subplot(132)\n",
    "plt.scatter(names, values)\n",
    "plt.subplot(133)\n",
    "plt.plot(names, values)\n",
    "plt.suptitle('Categorical Plotting')\n",
    "plt.show()"
   ]
  },
  {
   "cell_type": "markdown",
   "id": "3cff0c05",
   "metadata": {},
   "source": [
    "## Histogramas"
   ]
  },
  {
   "cell_type": "code",
   "execution_count": null,
   "id": "07b7908c",
   "metadata": {},
   "outputs": [],
   "source": [
    "# Si no descomentas plt.figure() los gráficos se superponen en vez de dibujarse en figuras independientes\n",
    "#plt.figure()\n",
    "x1 = np.random.randint(0,10,100)\n",
    "x2 = np.random.normal(5,3,100)\n",
    "plt.hist(x1)\n",
    "#plt.figure()\n",
    "plt.hist(x2,color='red')"
   ]
  },
  {
   "cell_type": "markdown",
   "id": "3c47f3a1",
   "metadata": {},
   "source": [
    "## Dibujando varias funciones"
   ]
  },
  {
   "cell_type": "code",
   "execution_count": null,
   "id": "6d1c27e5",
   "metadata": {},
   "outputs": [],
   "source": [
    "def f1(x):\n",
    "    return (3*x-x**3)\n",
    "\n",
    "def fc1(x):\n",
    "    return np.sin(4*np.pi*x)*np.exp(-5*x)\n",
    "\n",
    "t = np.arange(0., 5., 0.2)\n",
    "\n",
    "plt.figure(figsize=(9, 3))\n",
    "plt.subplot(131)\n",
    "plt.plot(t, f1(t))\n",
    "plt.title('Función 1')\n",
    "plt.legend(['3*x-x**3'])\n",
    "\n",
    "plt.subplot(132)\n",
    "plt.plot(t, (t**4-2*t**2-8))\n",
    "plt.title('Función 2')\n",
    "plt.legend(['t**4-2*t**2-8'])\n",
    "\n",
    "t = np.arange(1.02, 5., 0.2)\n",
    "plt.subplot(133)\n",
    "plt.plot(t, (t**3/(t-1)**2))\n",
    "plt.title('Función 3')\n",
    "plt.legend(['t**3/(t-1)**2'])\n",
    "#plt.suptitle('3 funciones')\n",
    "plt.show()\n",
    "\n",
    "plt.figure()\n",
    "t = np.arange(0., 2., 0.1) # Prueba a cambiar estos parámetros para que la gráfica se dibuje como quieras\n",
    "plt.plot(t, fc1(t), 'r')"
   ]
  },
  {
   "cell_type": "code",
   "execution_count": null,
   "id": "595edc04",
   "metadata": {},
   "outputs": [],
   "source": []
  }
 ],
 "metadata": {
  "kernelspec": {
   "display_name": "Python 3 (ipykernel)",
   "language": "python",
   "name": "python3"
  },
  "language_info": {
   "codemirror_mode": {
    "name": "ipython",
    "version": 3
   },
   "file_extension": ".py",
   "mimetype": "text/x-python",
   "name": "python",
   "nbconvert_exporter": "python",
   "pygments_lexer": "ipython3",
   "version": "3.7.13"
  }
 },
 "nbformat": 4,
 "nbformat_minor": 5
}
